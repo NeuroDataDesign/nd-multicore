{
 "cells": [
  {
   "cell_type": "code",
   "execution_count": 5,
   "metadata": {},
   "outputs": [
    {
     "name": "stderr",
     "output_type": "stream",
     "text": [
      "\n",
      "\n",
      "  0%|          | 0/25 [00:00<?, ?it/s]\u001b[A\u001b[A\n",
      "\u001b[A\n",
      "\u001b[A\n",
      "\u001b[A\n",
      "\u001b[A\n",
      "\u001b[A\n",
      "\u001b[A\n",
      "\u001b[A\n",
      "\u001b[A\n",
      "\u001b[A\n",
      "\u001b[A\n",
      "\u001b[AException in thread Thread-10:\n",
      "Traceback (most recent call last):\n",
      "  File \"/Users/srivathsa/anaconda/envs/py36/lib/python3.6/threading.py\", line 916, in _bootstrap_inner\n",
      "    self.run()\n",
      "  File \"/Users/srivathsa/anaconda/envs/py36/lib/python3.6/site-packages/tqdm/_tqdm.py\", line 144, in run\n",
      "    for instance in self.tqdm_cls._instances:\n",
      "  File \"/Users/srivathsa/anaconda/envs/py36/lib/python3.6/_weakrefset.py\", line 60, in __iter__\n",
      "    for itemref in self.data:\n",
      "RuntimeError: Set changed size during iteration\n",
      "\n",
      "\n",
      "  4%|▍         | 1/25 [00:01<00:39,  1.67s/it]\u001b[A\n",
      "  4%|▍         | 1/25 [00:01<00:41,  1.74s/it]\u001b[A\n",
      "  4%|▍         | 1/25 [00:01<00:42,  1.76s/it]\u001b[A\n",
      "  4%|▍         | 1/25 [00:01<00:43,  1.80s/it]\u001b[A\n",
      "  4%|▍         | 1/25 [00:01<00:43,  1.82s/it]\u001b[A\n",
      "  4%|▍         | 1/25 [00:01<00:45,  1.91s/it]\u001b[A\n",
      "  4%|▍         | 1/25 [00:01<00:47,  1.96s/it]\u001b[A\n",
      "  4%|▍         | 1/25 [00:01<00:47,  1.96s/it]\u001b[A\n",
      "  4%|▍         | 1/25 [00:02<00:47,  1.97s/it]\u001b[A\n",
      "  4%|▍         | 1/25 [00:02<00:48,  2.02s/it]\u001b[A\n",
      " 12%|█▏        | 3/25 [00:03<00:30,  1.39s/it]\u001b[A\n",
      " 12%|█▏        | 3/25 [00:03<00:31,  1.45s/it]\u001b[A\n",
      " 12%|█▏        | 3/25 [00:03<00:31,  1.44s/it]\u001b[A\n",
      " 12%|█▏        | 3/25 [00:03<00:33,  1.53s/it]\u001b[A\n",
      " 12%|█▏        | 3/25 [00:03<00:33,  1.53s/it]\u001b[A\n",
      " 12%|█▏        | 3/25 [00:03<00:35,  1.62s/it]\u001b[A\n",
      " 12%|█▏        | 3/25 [00:03<00:35,  1.59s/it]\u001b[A\n",
      " 12%|█▏        | 3/25 [00:03<00:36,  1.66s/it]\u001b[A\n",
      " 12%|█▏        | 3/25 [00:03<00:36,  1.64s/it]\u001b[A\n",
      " 12%|█▏        | 3/25 [00:03<00:36,  1.64s/it]\u001b[A\n",
      " 24%|██▍       | 6/25 [00:04<00:21,  1.11s/it]\u001b[A\n",
      " 24%|██▍       | 6/25 [00:04<00:20,  1.08s/it]\u001b[A\n",
      " 24%|██▍       | 6/25 [00:04<00:21,  1.11s/it]\u001b[A\n",
      " 24%|██▍       | 6/25 [00:04<00:21,  1.16s/it]\u001b[A\n",
      " 24%|██▍       | 6/25 [00:04<00:21,  1.16s/it]\u001b[A"
     ]
    },
    {
     "name": "stdout",
     "output_type": "stream",
     "text": [
      "0:00:04.697734\n"
     ]
    }
   ],
   "source": [
    "%reload_ext autoreload\n",
    "%autoreload 2\n",
    "\n",
    "import parallel\n",
    "parallel.start_process('bloby.BlobDetector', 'multicore_handler')"
   ]
  },
  {
   "cell_type": "code",
   "execution_count": null,
   "metadata": {
    "collapsed": true
   },
   "outputs": [],
   "source": []
  }
 ],
 "metadata": {
  "kernelspec": {
   "display_name": "Python [conda env:py36]",
   "language": "python",
   "name": "conda-env-py36-py"
  },
  "language_info": {
   "codemirror_mode": {
    "name": "ipython",
    "version": 3
   },
   "file_extension": ".py",
   "mimetype": "text/x-python",
   "name": "python",
   "nbconvert_exporter": "python",
   "pygments_lexer": "ipython3",
   "version": "3.6.2"
  }
 },
 "nbformat": 4,
 "nbformat_minor": 2
}
